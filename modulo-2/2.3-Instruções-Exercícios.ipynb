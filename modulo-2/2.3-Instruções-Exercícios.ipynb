{
  "cells": [
    {
      "cell_type": "markdown",
      "metadata": {
        "id": "1pCTdOHonv5f"
      },
      "source": [
        "# Módulo 2\n",
        "\n",
        "## 2.3 Instruções e Expressões\n",
        "\n",
        "### Q1\n",
        "\n",
        "Faça um programa que armazene o valor de 20 reais de salário por hora de um trabalhador, e o número de 40 horas trabalhadas na semana. Com essas informações, calcule e imprima:\n",
        "- Salário semanal bruto\n",
        "- Valor descontado por semana INSS (10% do bruto)\n",
        "- Valor descontado por semana pelo sindicato (5% do bruto)\n",
        "- Salário semanal líquido (Bruto - Descontos)"
      ]
    },
    {
      "cell_type": "code",
      "execution_count": null,
      "metadata": {
        "id": "hVbX0I97nj6M"
      },
      "outputs": [],
      "source": [
        "HOURLY_WAGE = 20.0\n",
        "WEEKLY_HOURS = 40\n",
        "INSS_RATE = 0.10\n",
        "UNION_RATE = 0.05\n",
        "\n",
        "gross_salary = HOURLY_WAGE * WEEKLY_HOURS\n",
        "\n",
        "inss_deduction = gross_salary * INSS_RATE\n",
        "union_deduction = gross_salary * UNION_RATE\n",
        "\n",
        "net_salary = gross_salary - inss_deduction - union_deduction\n",
        "\n",
        "print(\"Gross weekly salary:\", gross_salary)\n",
        "print(\"INSS deduction (10%):\", inss_deduction)\n",
        "print(\"Union deduction (5%):\", union_deduction)\n",
        "print(\"Net weekly salary:\", net_salary)\n",
        "\n",
        "# Expected output >\n",
        "# Gross weekly salary: 800.0\n",
        "# INSS deduction (10%): 80.0\n",
        "# Union deduction (5%): 40.0\n",
        "# Net weekly salary: 680.0"
      ]
    },
    {
      "cell_type": "markdown",
      "metadata": {
        "id": "pIxKX9J2oGZ1"
      },
      "source": [
        "### Q2\n",
        "\n",
        "Altere o programa anterior para a partir dos valores de horas trabalhadas por semana e salário por hora, calcular **em somente duas instruções**:\n",
        "- Salário semanal bruto\n",
        "- Salário semanal líquido com todos os descontos. Para a segunda instrução, realize todos os cálculos aritméticos em uma expressão composta.\n"
      ]
    },
    {
      "cell_type": "code",
      "execution_count": null,
      "metadata": {
        "id": "pAHw9Xf9oGoi"
      },
      "outputs": [],
      "source": [
        "HOURLY_WAGE = 20.0\n",
        "WEEKLY_HOURS = 40\n",
        "INSS_RATE = 0.10\n",
        "UNION_RATE = 0.05\n",
        "\n",
        "gross_salary = HOURLY_WAGE * WEEKLY_HOURS\n",
        "net_salary = gross_salary * (1 - INSS_RATE - UNION_RATE)\n",
        "\n",
        "print(\"Gross weekly salary:\", gross_salary)\n",
        "print(\"Net weekly salary:\", net_salary)\n",
        "\n",
        "# Expected output >\n",
        "# Gross weekly salary: 800.0\n",
        "# Net weekly salary: 680.0"
      ]
    },
    {
      "cell_type": "markdown",
      "metadata": {
        "id": "m8tlHRuWpBOB"
      },
      "source": [
        "### Q3\n",
        "\n",
        "Você está desenvolvendo um software de conversão de moeda e precisa calcular o valor equivalente em yuan chinês a partir de uma quantia em real. A taxa de câmbio é de 0.69 BRL (real) para 1 CNY (yuan). Escreva um programa que define em uma variável uma quantia em reais (BRL) e calcula o valor equivalente em yuan (CNY). Imprima o resultado."
      ]
    },
    {
      "cell_type": "code",
      "execution_count": null,
      "metadata": {
        "id": "2bPw7uF6oeL9"
      },
      "outputs": [],
      "source": [
        "amount_brl = 100.0\n",
        "exchange_rate = 0.69\n",
        "\n",
        "amount_cny = amount_brl / exchange_rate\n",
        "\n",
        "print(\"Amount in CNY:\", amount_cny)\n",
        "\n",
        "# Expected Output >\n",
        "# Amount in CNY: 144.92753623188406"
      ]
    },
    {
      "cell_type": "markdown",
      "metadata": {
        "id": "-Na3ltDCp74A"
      },
      "source": [
        "### Q4\n",
        "\n",
        "Você é um treinador de corrida e deseja calcular a velocidade média que um atleta precisa manter para completar a Maratona Internacional de São Silvestre, que tem uma distância total de 42.195 km. A fórmula para calcular a velocidade média ($v\\_media$) é dada por $v\\_media = \\frac{distancia}{tempo}$ . Escreva um programa em Python para calcular a velocidade média necessária para completar a maratona em 3 horas.\n",
        "\n",
        "**Calcule e imprima o resultado em metros/segundo**, ou seja, converta a distância de quilômetros para metros ($metro = \\frac{km}{1000}$) e a velocidade de horas para segundos $(segundo = \\frac{hora}{3600})$."
      ]
    },
    {
      "cell_type": "code",
      "execution_count": null,
      "metadata": {
        "id": "Bn6l8kcSrE4L"
      },
      "outputs": [],
      "source": [
        "DISTANCE_KM = 195.0  # Total distance in kilometers (São Silvestre marathon)\n",
        "TIME_HOURS = 3.0     # Total time in hours\n",
        "KM_TO_METERS = 1000.0  # Conversion factor from km to meters\n",
        "HOURS_TO_SECONDS = 3600.0  # Conversion factor from hours to seconds\n",
        "\n",
        "distance_meters = DISTANCE_KM * KM_TO_METERS\n",
        "\n",
        "time_seconds = TIME_HOURS * HOURS_TO_SECONDS\n",
        "\n",
        "average_velocity = distance_meters / time_seconds\n",
        "\n",
        "print(\"Average velocity:\", average_velocity, \"m/s\")\n",
        "\n",
        "# Excpected Output > \n",
        "# Average velocity: 18.055555555555557 m/s"
      ]
    }
  ],
  "metadata": {
    "colab": {
      "provenance": []
    },
    "kernelspec": {
      "display_name": "Python 3",
      "name": "python3"
    },
    "language_info": {
      "name": "python"
    }
  },
  "nbformat": 4,
  "nbformat_minor": 0
}
