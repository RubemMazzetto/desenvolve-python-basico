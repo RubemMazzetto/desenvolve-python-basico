{
 "cells": [
  {
   "cell_type": "markdown",
   "id": "0d5035b5",
   "metadata": {},
   "source": [
    "# Set\n",
    "\n",
    "## Aula 8.1"
   ]
  },
  {
   "cell_type": "markdown",
   "id": "0bdece85",
   "metadata": {},
   "source": [
    "### Q1. \n",
    "\n",
    "Dada uma string qualquer, use seu conhecimento de sets para apresentar os caracteres únicos que aparecem na string, ordenados alfabeticamente e sem duplicatas. Preste atenção em duplicatas de maiúsculas e minúsculas.\n"
   ]
  },
  {
   "cell_type": "code",
   "execution_count": null,
   "id": "0a258eba",
   "metadata": {},
   "outputs": [],
   "source": [
    "def get_unique_chars(text):\n",
    "    \"\"\"Retorna os caracteres únicos de uma string, ordenados alfabeticamente.\"\"\"\n",
    "    unique_chars = set(char.lower() for char in text if char.isalnum())\n",
    "    return sorted(unique_chars)\n",
    "\n",
    "phrase = \"O rato roeu a roupa do Robson\"\n",
    "result = get_unique_chars(phrase)\n",
    "print(\"Caracteres únicos:\", result)\n"
   ]
  },
  {
   "cell_type": "markdown",
   "id": "0856bd56",
   "metadata": {},
   "source": [
    "### Q2\n",
    "\n",
    "Desenvolva uma função em Python chamada ```tem_elementos_comuns()``` que recebe duas listas como parâmetros e retorna True se houver algum elemento comum entre as duas listas, e False caso contrário. Utilize sets para resolver essa tarefa."
   ]
  },
  {
   "cell_type": "code",
   "execution_count": null,
   "id": "f7ab6736",
   "metadata": {},
   "outputs": [],
   "source": [
    "def tem_elementos_comuns(list1, list2):\n",
    "    \"\"\"Retorna True se houver elementos comuns entre as duas listas.\"\"\"\n",
    "    set1 = set(list1)\n",
    "    set2 = set(list2)\n",
    "    return bool(set1.intersection(set2))\n",
    "\n",
    "lista1 = [1, 2, 3, 4]\n",
    "lista2 = [3, 4, 5, 6, 7]\n",
    "result = tem_elementos_comuns(lista1, lista2)\n",
    "print(result)  # Saída esperada: True"
   ]
  },
  {
   "cell_type": "code",
   "execution_count": null,
   "id": "1022744a",
   "metadata": {},
   "outputs": [],
   "source": [
    "# Execute esta célula para testar a função da Q2.\n",
    "\n",
    "lista1 = [1, 2, 3, 4]\n",
    "lista2 = [3, 4, 5, 6, 7]\n",
    "resultado = tem_elementos_comuns(lista1, lista2)\n",
    "print(resultado)  # Saída esperada: True"
   ]
  },
  {
   "cell_type": "markdown",
   "id": "649a5082",
   "metadata": {},
   "source": [
    "### Q3. \n",
    "\n",
    "Você vai coletar de diferentes turmas de alunos seus interesses em atividades extra curriculares dentre futebol, vôlei, rugby, música, teatro, ações comunitárias. Informe o conjunto de atividades comuns a todas a turmas. Pode preencher o iterável turmas com valores arbitrários. \n"
   ]
  },
  {
   "cell_type": "code",
   "execution_count": null,
   "id": "880a9927",
   "metadata": {},
   "outputs": [],
   "source": [
    "def find_common_activities(turma_list):\n",
    "    \"\"\"Retorna o conjunto de atividades comuns a todas as turmas.\"\"\"\n",
    "    common = set(turma_list[0])  # Inicia com a primeira turma\n",
    "    for turma in turma_list[1:]:\n",
    "        common = common.intersection(turma)\n",
    "    return common\n",
    "\n",
    "# Lista de turmas fornecida\n",
    "turmas = [\n",
    "    {'ações comunitárias', 'futebol', 'música', 'rugby'},\n",
    "    {'ações comunitárias', 'música', 'rugby', 'teatro'},\n",
    "    {'música', 'rugby', 'teatro', 'vôlei'},\n",
    "    {'música', 'vôlei', 'rugby'},\n",
    "    {'ações comunitárias', 'futebol', 'rugby', 'teatro', 'vôlei'},\n",
    "    {'ações comunitárias', 'futebol', 'rugby'},\n",
    "    {'ações comunitárias', 'rugby', 'teatro', 'vôlei'},\n",
    "    {'ações comunitárias', 'rugby', 'teatro', 'vôlei'},\n",
    "    {'ações comunitárias', 'rugby', 'vôlei'}\n",
    "]\n",
    "\n",
    "# Encontra e imprime as atividades comuns\n",
    "common_activities = find_common_activities(turmas)\n",
    "print(\"Atividades comuns:\", common_activities)\n",
    "\n"
   ]
  },
  {
   "cell_type": "markdown",
   "id": "021e2b1e",
   "metadata": {},
   "source": [
    "### Q4. \n",
    "Considere duas listas que são duplicatas uma da outra, exceto por um elemento, exemplo:\n",
    "```\n",
    "A = [1, 4, 5, 7, 9]\n",
    "B = [4, 5, 7, 9]\n",
    "```\n",
    "\n",
    "Encontre e apresente o elemento diferente, informando também qual das listas está desfalcada. Para o exemplo acima, a saída esperada é\n",
    "```\n",
    "O elemento 1 está faltando na segunda lista\n",
    "```"
   ]
  },
  {
   "cell_type": "code",
   "execution_count": null,
   "id": "608761a4",
   "metadata": {},
   "outputs": [],
   "source": [
    "def find_different_element(list1, list2):\n",
    "    \"\"\"Encontra o elemento diferente e indica qual lista está desfalcada.\"\"\"\n",
    "    set1 = set(list1)\n",
    "    set2 = set(list2)\n",
    "    if len(set1) > len(set2):\n",
    "        missing_from = \"segunda lista\"\n",
    "        different = set1 - set2\n",
    "    else:\n",
    "        missing_from = \"primeira lista\"\n",
    "        different = set2 - set1\n",
    "    return f\"O elemento {list(different)[0]} está faltando na {missing_from}\"\n",
    "\n",
    "# Teste com as listas fornecidas\n",
    "list_a = [1, 4, 5, 7, 9]\n",
    "list_b = [4, 5, 7, 9]\n",
    "result = find_different_element(list_a, list_b)\n",
    "print(result)"
   ]
  },
  {
   "cell_type": "markdown",
   "id": "ddf180c1",
   "metadata": {},
   "source": [
    "### Q5.\n",
    "\n",
    "Panagramas são frases que contém todas as letras do alfabeto pelo menos uma vez. Crie uma função ```checa_panagrama``` que recebe uma string e retorna ```True``` caso seja um panagrama ou ```False```caso contrário. Use seu conhecimento de sets para solucionar essa questão.\n",
    "\n",
    "Ex: \n",
    "```\n",
    "Entrada: \"The quick brown fox jumps over the lazy dog\" \n",
    "Saída: É um panagrama\n",
    "```\n",
    "\n",
    "```\n",
    "Entrada: \"Python é uma linguagem de programação\" \n",
    "Saída: Não é um panagrama\n",
    "```"
   ]
  },
  {
   "cell_type": "code",
   "execution_count": null,
   "id": "4e8b0390",
   "metadata": {},
   "outputs": [],
   "source": [
    "def is_pangram(text):\n",
    "    \"\"\"Retorna True se a string é um panagrama, False caso contrário.\"\"\"\n",
    "    # Converte para minúsculas e filtra apenas letras\n",
    "    letters = set(char.lower() for char in text if char.isalpha())\n",
    "    # Verifica se contém todas as 26 letras do alfabeto\n",
    "    return len(letters) == 26\n",
    "\n",
    "# Testes\n",
    "phrase1 = \"The quick brown fox jumps over the lazy dog\"\n",
    "phrase2 = \"Python é uma linguagem de programação\"\n",
    "print(f'\"{phrase1}\" {\"é um panagrama\" if is_pangram(phrase1) else \"não é um panagrama\"}')\n",
    "print(f'\"{phrase2}\" {\"é um panagrama\" if is_pangram(phrase2) else \"não é um panagrama\"}')"
   ]
  }
 ],
 "metadata": {
  "kernelspec": {
   "display_name": "Python 3 (ipykernel)",
   "language": "python",
   "name": "python3"
  },
  "language_info": {
   "codemirror_mode": {
    "name": "ipython",
    "version": 3
   },
   "file_extension": ".py",
   "mimetype": "text/x-python",
   "name": "python",
   "nbconvert_exporter": "python",
   "pygments_lexer": "ipython3",
   "version": "3.9.6"
  }
 },
 "nbformat": 4,
 "nbformat_minor": 5
}
