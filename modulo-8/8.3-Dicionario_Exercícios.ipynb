{
 "cells": [
  {
   "cell_type": "markdown",
   "id": "0d5035b5",
   "metadata": {},
   "source": [
    "# Dicionários\n",
    "\n",
    "## Aula 8.3"
   ]
  },
  {
   "cell_type": "markdown",
   "id": "0bdece85",
   "metadata": {},
   "source": [
    "### Q1. \n",
    "\n",
    "Escreva uma função em Python chamada ```contagem_caracteres``` que recebe uma string como parâmetro e retorna um dicionário onde as chaves são os caracteres presentes na string e os valores são a contagem de cada caractere.\n"
   ]
  },
  {
   "cell_type": "code",
   "execution_count": null,
   "id": "09a9845d",
   "metadata": {},
   "outputs": [],
   "source": [
    "def contagem_caracteres(text):\n",
    "    \"\"\"Retorna um dicionário com a contagem de cada caractere presente na string.\"\"\"\n",
    "    char_count = {}\n",
    "    for char in text:\n",
    "        char_count[char] = char_count.get(char, 0) + 1\n",
    "    return char_count\n",
    "\n"
   ]
  },
  {
   "cell_type": "code",
   "execution_count": null,
   "id": "0a258eba",
   "metadata": {},
   "outputs": [],
   "source": [
    "# Exemplo de uso\n",
    "frase = \"python programming\"\n",
    "resultado = contagem_caracteres(frase)\n",
    "print(resultado)"
   ]
  },
  {
   "cell_type": "markdown",
   "id": "649a5082",
   "metadata": {},
   "source": [
    "### Q2. \n",
    "\n",
    "Baixe o arquivo contendo o roteiro do filme brasileiro \"Estômago\" e salve em seu computador com o nome \"estomago.txt\".\n",
    "\n",
    "https://aplauso.imprensaoficial.com.br/edicoes/12.0.813.502/12.0.813.502.txt\n",
    "\n",
    "- Escreva um script python que abre o arquivo de texto e cria um dicionário contando a quantidade de vezes que cada palavra aparece no texto.\n",
    "- Em seguida ordene o dicionário de forma decrescente pelos valores. Dessa maneira ele irá apresentar as palavras mais frequentes no início.\n",
    "- Apresente na tela o dicionário ordenado\n"
   ]
  },
  {
   "cell_type": "code",
   "execution_count": null,
   "id": "47cb0573",
   "metadata": {},
   "outputs": [],
   "source": [
    "# Implemente aqui sua solução"
   ]
  },
  {
   "cell_type": "markdown",
   "id": "bb62d219",
   "metadata": {},
   "source": [
    "### Q3. \n",
    "\n",
    "Crie uma função chamada ```mesclar_dicionarios``` que recebe dois dicionários como parâmetros e retorna um novo dicionário contendo a fusão dos dois. Se houver chaves comuns, o maior valor deve prevalecer."
   ]
  },
  {
   "cell_type": "code",
   "execution_count": null,
   "id": "f4363612",
   "metadata": {},
   "outputs": [],
   "source": [
    "def mesclar_dicionarios(dict1, dict2):\n",
    "    \"\"\"Mescla dois dicionários, prevalecendo o maior valor em chaves comuns.\"\"\"\n",
    "    merged = dict1.copy() \n",
    "    for key, value in dict2.items():\n",
    "        if key in merged:\n",
    "            merged[key] = max(merged[key], value)\n",
    "        else:\n",
    "            merged[key] = value\n",
    "    return merged"
   ]
  },
  {
   "cell_type": "code",
   "execution_count": 1,
   "id": "add41556",
   "metadata": {},
   "outputs": [
    {
     "ename": "NameError",
     "evalue": "name 'mesclar_dicionarios' is not defined",
     "output_type": "error",
     "traceback": [
      "\u001b[31m---------------------------------------------------------------------------\u001b[39m",
      "\u001b[31mNameError\u001b[39m                                 Traceback (most recent call last)",
      "\u001b[36mCell\u001b[39m\u001b[36m \u001b[39m\u001b[32mIn[1]\u001b[39m\u001b[32m, line 4\u001b[39m\n\u001b[32m      2\u001b[39m dicionario1 = {\u001b[33m'\u001b[39m\u001b[33ma\u001b[39m\u001b[33m'\u001b[39m: \u001b[32m1\u001b[39m, \u001b[33m'\u001b[39m\u001b[33mb\u001b[39m\u001b[33m'\u001b[39m: \u001b[32m2\u001b[39m, \u001b[33m'\u001b[39m\u001b[33mc\u001b[39m\u001b[33m'\u001b[39m: \u001b[32m3\u001b[39m}\n\u001b[32m      3\u001b[39m dicionario2 = {\u001b[33m'\u001b[39m\u001b[33mb\u001b[39m\u001b[33m'\u001b[39m: \u001b[32m4\u001b[39m, \u001b[33m'\u001b[39m\u001b[33md\u001b[39m\u001b[33m'\u001b[39m: \u001b[32m5\u001b[39m}\n\u001b[32m----> \u001b[39m\u001b[32m4\u001b[39m resultado = \u001b[43mmesclar_dicionarios\u001b[49m(dicionario1, dicionario2)\n\u001b[32m      5\u001b[39m \u001b[38;5;28mprint\u001b[39m(resultado)\n\u001b[32m      6\u001b[39m \u001b[38;5;66;03m# Saída esperada: {'a': 1, 'b': 4, 'c': 3, 'd': 5}\u001b[39;00m\n",
      "\u001b[31mNameError\u001b[39m: name 'mesclar_dicionarios' is not defined"
     ]
    }
   ],
   "source": [
    "# Exemplo de uso:\n",
    "dicionario1 = {'a': 1, 'b': 2, 'c': 3}\n",
    "dicionario2 = {'b': 4, 'd': 5}\n",
    "resultado = mesclar_dicionarios(dicionario1, dicionario2)\n",
    "print(resultado)\n",
    "# Saída esperada: {'a': 1, 'b': 4, 'c': 3, 'd': 5}"
   ]
  },
  {
   "cell_type": "markdown",
   "id": "8710b1a7",
   "metadata": {},
   "source": [
    "### Q4.\n",
    "\n",
    "Desenvolva uma função em Python chamada ```filtrar_dicionario``` que recebe um dicionário e uma lista de chaves como parâmetros e retorna um novo dicionário contendo apenas as chaves que estão presentes na lista."
   ]
  },
  {
   "cell_type": "code",
   "execution_count": null,
   "id": "0b7ee921",
   "metadata": {},
   "outputs": [],
   "source": [
    "def filter_dictionary(data, keys):\n",
    "    \"\"\"Retorna um novo dicionário contendo apenas as chaves especificadas.\"\"\"\n",
    "    return {key: data[key] for key in keys if key in data}\n",
    "\n"
   ]
  },
  {
   "cell_type": "code",
   "execution_count": null,
   "id": "ebc131f6",
   "metadata": {},
   "outputs": [],
   "source": [
    "# Exemplo de uso\n",
    "dados = {'a': 1, 'b': 2, 'c': 3, 'd': 4, 'e': 5}\n",
    "chaves_filtradas = ['a', 'c', 'e']\n",
    "resultado = filter_dictionary(dados, chaves_filtradas)\n",
    "print(resultado)\n",
    "# Saída esperada: {'a': 1, 'c': 3, 'e': 5}"
   ]
  },
  {
   "cell_type": "markdown",
   "id": "3203c51e",
   "metadata": {},
   "source": [
    "### Q5.\n",
    "\n",
    "Você está responsável por analisar os resultados de uma votação. Cada voto é representado por um dicionário com o nome do candidato e a quantidade de votos que recebeu em uma determinada sessão eleitoral. Escreva uma função chamada ```resultado_votacao``` que recebe uma lista de dicionários de votos e retorna um dicionário onde as chaves são os nomes dos candidatos, e os valores são tuplas ```(total, percentual)``` com o total de votos recebidos por cada candidato e o percentual em relação à soma total de votos em todos os candidatos. "
   ]
  },
  {
   "cell_type": "code",
   "execution_count": null,
   "id": "2c856eee",
   "metadata": {},
   "outputs": [],
   "source": [
    "def vote_result(votes_list):\n",
    "    \"\"\"Retorna um dicionário com totais e percentuais de votos por candidato.\"\"\"\n",
    "    total_votes = {}\n",
    "    for vote in votes_list:\n",
    "        for candidate, count in vote.items():\n",
    "            total_votes[candidate] = total_votes.get(candidate, 0) + count\n",
    "\n",
    "    total_all_votes = sum(total_votes.values())\n",
    "    \n",
    "    result = {\n",
    "        candidate: (total, round((total / total_all_votes) * 100, 2))\n",
    "        for candidate, total in total_votes.items()\n",
    "    }\n",
    "    return result"
   ]
  },
  {
   "cell_type": "code",
   "execution_count": null,
   "id": "ff2044de",
   "metadata": {},
   "outputs": [],
   "source": [
    "# Exemplo de uso:\n",
    "votos = [\n",
    "    {'candidato_A': 120, 'candidato_B': 85, 'candidato_C': 90},\n",
    "    {'candidato_A': 110, 'candidato_B': 95, 'candidato_C': 80},\n",
    "    {'candidato_A': 130, 'candidato_B': 78, 'candidato_C': 105},\n",
    "]\n",
    "resultado = resultado_votacao(votos)\n",
    "print(resultado)  # Saída esperada: {'candidato_A': (360, 40.31), 'candidato_B': (258, 28.89), \n",
    "                                ###  'candidato_C': (275, 30.79)}"
   ]
  }
 ],
 "metadata": {
  "kernelspec": {
   "display_name": "Python 3",
   "language": "python",
   "name": "python3"
  },
  "language_info": {
   "codemirror_mode": {
    "name": "ipython",
    "version": 3
   },
   "file_extension": ".py",
   "mimetype": "text/x-python",
   "name": "python",
   "nbconvert_exporter": "python",
   "pygments_lexer": "ipython3",
   "version": "3.13.7"
  }
 },
 "nbformat": 4,
 "nbformat_minor": 5
}
