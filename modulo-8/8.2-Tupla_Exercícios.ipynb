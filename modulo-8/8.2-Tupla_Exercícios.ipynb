{
 "cells": [
  {
   "cell_type": "markdown",
   "id": "0d5035b5",
   "metadata": {},
   "source": [
    "# Tupla\n",
    "\n",
    "## Aula 8.2"
   ]
  },
  {
   "cell_type": "markdown",
   "id": "0bdece85",
   "metadata": {},
   "source": [
    "### Q1. \n",
    "\n",
    "Escreva uma função ```calcula_area_perimetro``` que recebe **apenas um parâmetro** ```dimensoes``` e calcula a área e o perímetro a partir das dimensões dadas. \n",
    "- ```dimensoes``` é uma tupla (largura, comprimento) com as dimensões de um terreno retangular\n",
    "- Sua função deve calcular e retornar as seguintes operações\n",
    "   - $area = largura \\times comprimento$\n",
    "   - $perimetro = 2\\times(largura + comprimento)$\n"
   ]
  },
  {
   "cell_type": "code",
   "execution_count": null,
   "id": "0a258eba",
   "metadata": {},
   "outputs": [],
   "source": [
    "def calculate_area_perimeter(dimensions):\n",
    "    \"\"\"Calcula a área e o perímetro de um terreno retangular a partir de uma tupla (largura, comprimento).\"\"\"\n",
    "    width, length = dimensions\n",
    "    area = width * length\n",
    "    perimeter = 2 * (width + length)\n",
    "    return (area, perimeter)"
   ]
  },
  {
   "cell_type": "code",
   "execution_count": null,
   "id": "e1866c04",
   "metadata": {},
   "outputs": [],
   "source": [
    "width = 5\n",
    "length = 7\n",
    "result = calculate_area_perimeter((width, length))\n",
    "print(result, type(result))"
   ]
  },
  {
   "cell_type": "markdown",
   "id": "cbdcb986",
   "metadata": {},
   "source": [
    "### Q2.\n",
    "\n",
    "Dada uma string, imprima todas as vogais que aparecem na string, bem como todos os índices onde elas ocorrem. Para isso, use a função ```enumerate```.\n"
   ]
  },
  {
   "cell_type": "code",
   "execution_count": null,
   "id": "1f6b1f2d",
   "metadata": {},
   "outputs": [],
   "source": [
    "def find_vowels(phrase):\n",
    "    \"\"\"Imprime vogais e seus índices na frase.\"\"\"\n",
    "    vowels = \"aeiouAEIOU\"\n",
    "    vowel_indices = [(i, char) for i, char in enumerate(phrase) if char in vowels]\n",
    "    for index, vowel in vowel_indices:\n",
    "        print(f\"Vogal '{vowel}' encontrada no índice {index}\")\n",
    "\n",
    "phrase = \"O rato roeu a roupa da Alice\"\n",
    "find_vowels(phrase)"
   ]
  },
  {
   "cell_type": "markdown",
   "id": "8d46663f",
   "metadata": {},
   "source": [
    "### Q3.\n",
    "\n",
    "Escreva uma função em Python chamada ```ordenar_tuplas``` que recebe uma lista de tuplas, cada uma contendo o nome de um aluno e sua respectiva média, e retorna uma nova lista ordenada em ordem decrescente de médias."
   ]
  },
  {
   "cell_type": "code",
   "execution_count": null,
   "id": "469f2e6e",
   "metadata": {},
   "outputs": [],
   "source": [
    "def sort_tuples_by_grade(student_grades):\n",
    "    \"\"\"Ordena uma lista de tuplas (nome, média) por média em ordem decrescente.\"\"\"\n",
    "    return sorted(student_grades, key=lambda x: x[1], reverse=True)"
   ]
  },
  {
   "cell_type": "code",
   "execution_count": null,
   "id": "1972c62b",
   "metadata": {},
   "outputs": [],
   "source": [
    "student_grades = [('Alice', 8.5), ('Bob', 7.2), ('Charlie', 9.0), ('David', 8.8)]\n",
    "result = sort_tuples_by_grade(student_grades)\n",
    "print(result)"
   ]
  },
  {
   "cell_type": "markdown",
   "id": "e0268fae",
   "metadata": {},
   "source": [
    "### Q4.\n",
    "\n",
    "Escreva uma função em Python chamada ```comprimir_tuplas``` que recebe uma lista de tuplas, cada uma contendo uma palavra e um número, e retorna uma nova lista de tuplas onde palavras idênticas são agrupadas e seus números são somados.\n",
    "\n"
   ]
  },
  {
   "cell_type": "code",
   "execution_count": null,
   "id": "30a221f3",
   "metadata": {},
   "outputs": [],
   "source": [
    "def compress_tuples(tuple_list):\n",
    "    \"\"\"Agrupa tuplas por palavra e soma os números associados.\"\"\"\n",
    "    result = {}\n",
    "    for word, number in tuple_list:\n",
    "        result[word] = result.get(word, 0) + number\n",
    "    return [(word, total) for word, total in result.items()]"
   ]
  },
  {
   "cell_type": "code",
   "execution_count": null,
   "id": "80972bac",
   "metadata": {},
   "outputs": [],
   "source": [
    "# Exemplo de uso\n",
    "original_tuples = [('maçã', 3), ('banana', 2), ('maçã', 5), ('laranja', 1), ('banana', 3)]\n",
    "result = compress_tuples(original_tuples)\n",
    "print(result)\n",
    "# Saída esperada: [('maçã', 8), ('banana', 5), ('laranja', 1)]"
   ]
  },
  {
   "cell_type": "markdown",
   "id": "649a5082",
   "metadata": {},
   "source": [
    "### Q5. \n",
    "\n",
    "- Escreva um script que peça o nome e a idade de todos na fila de uma balada. Crie uma lista de tuplas com os pares ```(nome, idade)``` de cada um. \n",
    "- Em seguida crie e imprima duas tuplas apenas com os nomes, uma com os menores de idade que não poderão entrar, e uma com os maiores de idade (```idade >= 18```). \n",
    "\n"
   ]
  },
  {
   "cell_type": "code",
   "execution_count": null,
   "id": "47cb0573",
   "metadata": {},
   "outputs": [],
   "source": [
    "def collect_and_separate_attendees():\n",
    "    \"\"\"Coleta nomes e idades, separando menores e maiores de 18 anos.\"\"\"\n",
    "    attendees = []\n",
    "    while True:\n",
    "        name = input(\"Digite o nome (ou 'fim' para encerrar): \")\n",
    "        if name.lower() == \"fim\":\n",
    "            break\n",
    "        try:\n",
    "            age = int(input(\"Digite a idade: \"))\n",
    "            attendees.append((name, age))\n",
    "        except ValueError:\n",
    "            print(\"Idade inválida, tente novamente.\")\n",
    "            continue\n",
    "    minors = tuple(name for name, age in attendees if age < 18)\n",
    "    adults = tuple(name for name, age in attendees if age >= 18)\n",
    "    return minors, adults\n",
    "\n",
    "minors_tuple, adults_tuple = collect_and_separate_attendees()\n",
    "print(\"Menores de idade (não entram):\", minors_tuple)\n",
    "print(\"Maiores de idade (entram):\", adults_tuple)"
   ]
  }
 ],
 "metadata": {
  "kernelspec": {
   "display_name": "Python 3 (ipykernel)",
   "language": "python",
   "name": "python3"
  },
  "language_info": {
   "codemirror_mode": {
    "name": "ipython",
    "version": 3
   },
   "file_extension": ".py",
   "mimetype": "text/x-python",
   "name": "python",
   "nbconvert_exporter": "python",
   "pygments_lexer": "ipython3",
   "version": "3.9.6"
  }
 },
 "nbformat": 4,
 "nbformat_minor": 5
}
